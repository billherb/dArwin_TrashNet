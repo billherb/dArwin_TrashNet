{
  "nbformat": 4,
  "nbformat_minor": 0,
  "metadata": {
    "colab": {
      "provenance": [],
      "authorship_tag": "ABX9TyNI+Sjg6lc3L66DZHq5Ip1S",
      "include_colab_link": true
    },
    "kernelspec": {
      "name": "python3",
      "display_name": "Python 3"
    },
    "language_info": {
      "name": "python"
    }
  },
  "cells": [
    {
      "cell_type": "markdown",
      "metadata": {
        "id": "view-in-github",
        "colab_type": "text"
      },
      "source": [
        "<a href=\"https://colab.research.google.com/github/hchung596/dArwin_TrashNet/blob/main/dArwin-main.ipynb\" target=\"_parent\"><img src=\"https://colab.research.google.com/assets/colab-badge.svg\" alt=\"Open In Colab\"/></a>"
      ]
    },
    {
      "cell_type": "code",
      "source": [
        "#Dependencies to be able to load the model and show a picture \n",
        "import cv2 \n",
        "import tensorflow as tf\n",
        "from tensorflow import keras\n",
        "from keras.models import load_model\n",
        "import matplotlib.pyplot as plt\n",
        "import numpy as np\n",
        "import PIL"
      ],
      "metadata": {
        "id": "i0aubStliL2_"
      },
      "execution_count": null,
      "outputs": []
    },
    {
      "cell_type": "code",
      "source": [
        "#Image capture functions \n",
        "from IPython.display import display, Javascript\n",
        "from google.colab.output import eval_js\n",
        "from base64 import b64decode\n",
        "\n",
        "def take_photo(filename='photo.jpg', quality=1.0):\n",
        "  js = Javascript('''\n",
        "    async function takePhoto(quality) {\n",
        "      const div = document.createElement('div');\n",
        "      const capture = document.createElement('button');\n",
        "      capture.textContent = 'Capture';\n",
        "      div.appendChild(capture);\n",
        "\n",
        "      const video = document.createElement('video');\n",
        "      video.style.display = 'block';\n",
        "      const stream = await navigator.mediaDevices.getUserMedia({video: true});\n",
        "\n",
        "      document.body.appendChild(div);\n",
        "      div.appendChild(video);\n",
        "      video.srcObject = stream;\n",
        "      await video.play();\n",
        "\n",
        "      // Resize the output to fit the video element.\n",
        "      google.colab.output.setIframeHeight(document.documentElement.scrollHeight, true);\n",
        "\n",
        "      // Wait for Capture to be clicked.\n",
        "      await new Promise((resolve) => capture.onclick = resolve);\n",
        "\n",
        "      const canvas = document.createElement('canvas');\n",
        "      canvas.width = video.videoWidth;\n",
        "      canvas.height = video.videoHeight;\n",
        "      canvas.getContext('2d').drawImage(video, 0, 0);\n",
        "      stream.getVideoTracks()[0].stop();\n",
        "      div.remove();\n",
        "      return canvas.toDataURL('image/jpeg', quality);\n",
        "    }\n",
        "    ''')\n",
        "  display(js)\n",
        "  data = eval_js('takePhoto({})'.format(quality))\n",
        "\n",
        "  filename=cap(data)\n",
        "\n",
        "  return filename"
      ],
      "metadata": {
        "id": "LGcY1-3Knbb4"
      },
      "execution_count": null,
      "outputs": []
    },
    {
      "cell_type": "code",
      "source": [
        "#Helper function \n",
        "def js_to_image(js_reply):\n",
        "  image_bytes = b64decode(js_reply.split(',')[1])\n",
        "  jpg_as_np = np.frombuffer(image_bytes, dtype=np.uint8)\n",
        "  img = cv2.imdecode(jpg_as_np, flags=1)\n",
        "  return img"
      ],
      "metadata": {
        "id": "NZ0yap4Sna5X"
      },
      "execution_count": null,
      "outputs": []
    },
    {
      "cell_type": "code",
      "source": [
        "#Helper function\n",
        "def cap(data):\n",
        "  frame = js_to_image(data)\n",
        "  rgb = cv2.cvtColor(frame, cv2.COLOR_BGR2RGB)\n",
        "  filename='photo.jpg'\n",
        "  cv2.imwrite(filename, frame)\n",
        "  return filename  "
      ],
      "metadata": {
        "id": "hOETv0pGoAuA"
      },
      "execution_count": null,
      "outputs": []
    },
    {
      "cell_type": "code",
      "execution_count": null,
      "metadata": {
        "id": "wD90DEauiGmH"
      },
      "outputs": [],
      "source": [
        "#STEP 1: Place .h5 file into runtime directory \n",
        "#STEP 2: Place an image of plastic/metal into runtime directory \n",
        "model = keras.models.load_model(\"MODEL5.h5\") #Loads .h5 file in the runtime \n",
        "obj = cv2.imread(take_photo()) #File name for your image, make sure file type and name match\n",
        "obj = cv2.cvtColor(obj, cv2.COLOR_RGB2BGR) #Changes the color values \n",
        "obj = tf.image.resize(obj, (224,224)) #Resizes image\n",
        "plt.imshow(obj.numpy().astype(int)) #Turns it into a numpy array (to be able to show)\n",
        "plt.show #Shows image in output\n",
        "expand = np.expand_dims(obj,0) #Adds a dimension to the image to be able to feed it to model\n",
        "predict1 = model.predict(expand) #Tells model to make a prediction \n",
        "classes = ['cardboard', 'food', 'glass', 'metal', 'newhands', 'paper', 'plastic'] #Classes \n",
        "print(\"IMG IS\", classes[np.argmax(predict1)])"
      ]
    }
  ]
}